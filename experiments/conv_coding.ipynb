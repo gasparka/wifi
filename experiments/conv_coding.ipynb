{
 "cells": [
  {
   "cell_type": "code",
   "execution_count": 2,
   "metadata": {},
   "outputs": [],
   "source": [
    "import numpy as np\n",
    "# from ieee80211phy.receiver.conv_coding import *\n",
    "import matplotlib.pyplot as plt\n",
    "import matplotlib.patches as patches"
   ]
  },
  {
   "cell_type": "code",
   "execution_count": 3,
   "metadata": {},
   "outputs": [
    {
     "data": {
      "text/plain": [
       "0.015625"
      ]
     },
     "execution_count": 3,
     "metadata": {},
     "output_type": "execute_result"
    }
   ],
   "source": [
    "1/64"
   ]
  },
  {
   "cell_type": "code",
   "execution_count": 4,
   "metadata": {},
   "outputs": [
    {
     "data": {
      "image/png": "[encoded data removed]",
      "text/plain": [
       "<Figure size 2880x480 with 1 Axes>"
      ]
     },
     "metadata": {
      "needs_background": "light"
     },
     "output_type": "display_data"
    }
   ],
   "source": [
    "# Create figure and axes\n",
    "fig,ax = plt.subplots(1, figsize=(30, 5), dpi=96)\n",
    "\n",
    "# Create a Rectangle patch\n",
    "per = 1/64\n",
    "for i in range(65):\n",
    "    x = 1-(i*per)\n",
    "    rect = patches.Rectangle((x,0.5),per,per,\n",
    "                             linewidth=0.125,\n",
    "                             edgecolor='r',\n",
    "                             facecolor='none')\n",
    "    ax.text(x, 0.5, s=str(i), fontsize=8)\n",
    "    # Add the patch to the Axes\n",
    "    ax.add_patch(rect)\n",
    "\n",
    "# plt.show()\n",
    "plt.axis('off')\n",
    "ax.get_xaxis().set_visible(False)\n",
    "ax.get_yaxis().set_visible(False)\n",
    "plt.savefig('foo.eps', format='eps', bbox_inches='tight', pad_inches = 0)"
   ]
  },
  {
   "cell_type": "code",
   "execution_count": 5,
   "metadata": {},
   "outputs": [
    {
     "name": "stdout",
     "output_type": "stream",
     "text": [
      "Wrote simple.png\n"
     ]
    }
   ],
   "source": [
    "import pygraphviz as pgv\n",
    "\n",
    "A=pgv.AGraph()\n",
    "\n",
    "A.add_node('b')\n",
    "A.add_edge('b',2)\n",
    "A.add_edge(1,2)\n",
    "A.add_edge(2,3)\n",
    "A.add_edge(1,3)\n",
    "\n",
    "A.layout(prog='dot') # layout with default (neato)\n",
    "A.draw('simple.png') # draw png\n",
    "print(\"Wrote simple.png\")"
   ]
  },
  {
   "cell_type": "code",
   "execution_count": null,
   "metadata": {},
   "outputs": [],
   "source": [
    "base = Node('000000')\n",
    "populate_outputs_recursive(base)\n",
    "print(len(Node.instances))"
   ]
  },
  {
   "cell_type": "code",
   "execution_count": 6,
   "metadata": {},
   "outputs": [
    {
     "ename": "NameError",
     "evalue": "name 'Node' is not defined",
     "output_type": "error",
     "traceback": [
      "\u001b[0;31m---------------------------------------------------------------------------\u001b[0m",
      "\u001b[0;31mNameError\u001b[0m                                 Traceback (most recent call last)",
      "\u001b[0;32m<ipython-input-6-1b346717b52e>\u001b[0m in \u001b[0;36m<module>\u001b[0;34m\u001b[0m\n\u001b[1;32m      3\u001b[0m \u001b[0mA\u001b[0m\u001b[0;34m=\u001b[0m\u001b[0mpgv\u001b[0m\u001b[0;34m.\u001b[0m\u001b[0mAGraph\u001b[0m\u001b[0;34m(\u001b[0m\u001b[0moverlap\u001b[0m\u001b[0;34m=\u001b[0m\u001b[0;34m'False'\u001b[0m\u001b[0;34m,\u001b[0m \u001b[0msplines\u001b[0m\u001b[0;34m=\u001b[0m\u001b[0;34m'true'\u001b[0m\u001b[0;34m)\u001b[0m\u001b[0;34m\u001b[0m\u001b[0;34m\u001b[0m\u001b[0m\n\u001b[1;32m      4\u001b[0m \u001b[0;34m\u001b[0m\u001b[0m\n\u001b[0;32m----> 5\u001b[0;31m \u001b[0;32mfor\u001b[0m \u001b[0mk\u001b[0m\u001b[0;34m,\u001b[0m \u001b[0mv\u001b[0m \u001b[0;32min\u001b[0m \u001b[0mNode\u001b[0m\u001b[0;34m.\u001b[0m\u001b[0minstances\u001b[0m\u001b[0;34m.\u001b[0m\u001b[0mitems\u001b[0m\u001b[0;34m(\u001b[0m\u001b[0;34m)\u001b[0m\u001b[0;34m:\u001b[0m\u001b[0;34m\u001b[0m\u001b[0;34m\u001b[0m\u001b[0m\n\u001b[0m\u001b[1;32m      6\u001b[0m     \u001b[0midn\u001b[0m \u001b[0;34m=\u001b[0m \u001b[0mint\u001b[0m\u001b[0;34m(\u001b[0m\u001b[0mk\u001b[0m\u001b[0;34m[\u001b[0m\u001b[0;34m:\u001b[0m\u001b[0;34m:\u001b[0m\u001b[0;34m-\u001b[0m\u001b[0;36m1\u001b[0m\u001b[0;34m]\u001b[0m\u001b[0;34m,\u001b[0m \u001b[0;36m2\u001b[0m\u001b[0;34m)\u001b[0m\u001b[0;34m\u001b[0m\u001b[0;34m\u001b[0m\u001b[0m\n\u001b[1;32m      7\u001b[0m     \u001b[0mA\u001b[0m\u001b[0;34m.\u001b[0m\u001b[0madd_node\u001b[0m\u001b[0;34m(\u001b[0m\u001b[0midn\u001b[0m\u001b[0;34m,\u001b[0m \u001b[0mwidth\u001b[0m\u001b[0;34m=\u001b[0m\u001b[0;34m'0.1'\u001b[0m\u001b[0;34m,\u001b[0m \u001b[0mfontsize\u001b[0m\u001b[0;34m=\u001b[0m\u001b[0;34m'10'\u001b[0m\u001b[0;34m)\u001b[0m\u001b[0;34m\u001b[0m\u001b[0;34m\u001b[0m\u001b[0m\n",
      "\u001b[0;31mNameError\u001b[0m: name 'Node' is not defined"
     ]
    }
   ],
   "source": [
    "import pygraphviz as pgv\n",
    "\n",
    "A=pgv.AGraph(overlap='False', splines='true')\n",
    "\n",
    "for k, v in Node.instances.items():\n",
    "    idn = int(k[::-1], 2)\n",
    "    A.add_node(idn, width='0.1', fontsize='10')\n",
    "    A.add_edge(idn,int(v.path_out[0].end.state[::-1], 2), dir='forward', arrowsize='0.25')\n",
    "#     A.add_edge(idn,int(v.path_out[1].end.state[::-1], 2), dir='forward', arrowsize='0.25')\n",
    "\n",
    "# A.add_node('b')\n",
    "# A.add_edge('b',2)\n",
    "# A.add_edge(1,2)\n",
    "# A.add_edge(2,3)\n",
    "# A.add_edge(1,3)\n",
    "\n",
    "# ValueError: Program lefty is not one of: neato, dot, twopi, circo, fdp, nop, wc, acyclic, gvpr, gvpr, ccomps, sccmap, tred, sfdp.\n",
    "A.layout(prog='neato') # layout with default (neato)\n",
    "A.draw('simple.png') # draw png\n",
    "A.write(\"file.dot\")\n",
    "print(\"Wrote simple.png\")"
   ]
  },
  {
   "cell_type": "markdown",
   "metadata": {},
   "source": [
    "![alt text](simple.png \"Title\")"
   ]
  },
  {
   "cell_type": "code",
   "execution_count": null,
   "metadata": {},
   "outputs": [],
   "source": [
    "\n",
    "states = []\n",
    "def f(inp):\n",
    "    zshr, zo = f(shr, '0')\n",
    "    oshr, oo = f(shr, '1')\n",
    "    print(f'{shr} 0/{zo} -> {zshr} 1/{oo} -> {oshr}')\n",
    "    return shr, output\n",
    "    \n",
    "f('000000', '0')\n",
    "f('000000', '1')"
   ]
  },
  {
   "cell_type": "code",
   "execution_count": 91,
   "metadata": {},
   "outputs": [
    {
     "data": {
      "text/plain": [
       "'111101000110'"
      ]
     },
     "execution_count": 91,
     "metadata": {},
     "output_type": "execute_result"
    }
   ],
   "source": [
    "def convolutional_encoder(data):\n",
    "    output = ''\n",
    "    shr = '00'\n",
    "    for bit in data:\n",
    "        out_a = int(bit) ^ int(shr[0])\n",
    "        out_b = int(bit) ^ int(shr[0]) ^ int(shr[1])\n",
    "        output += str(out_b) + str(out_a)\n",
    "        shr = bit + shr[:-1]  # advance the shift register\n",
    "        \n",
    "    return output\n",
    "        \n",
    "convolutional_encoder('101100')"
   ]
  },
  {
   "cell_type": "code",
   "execution_count": 112,
   "metadata": {},
   "outputs": [
    {
     "name": "stdout",
     "output_type": "stream",
     "text": [
      "0\t <--0-- 0[00], 1[11]\n",
      "1\t <--0-- 2[10], 3[01]\n",
      "2\t <--0-- 4[00], 5[11]\n",
      "3\t <--0-- 6[10], 7[01]\n",
      "4\t <--0-- 8[11], 9[00]\n",
      "5\t <--0-- 10[01], 11[10]\n",
      "6\t <--0-- 12[11], 13[00]\n",
      "7\t <--0-- 14[01], 15[10]\n",
      "8\t <--0-- 16[11], 17[00]\n",
      "9\t <--0-- 18[01], 19[10]\n",
      "10\t <--0-- 20[11], 21[00]\n",
      "11\t <--0-- 22[01], 23[10]\n",
      "12\t <--0-- 24[00], 25[11]\n",
      "13\t <--0-- 26[10], 27[01]\n",
      "14\t <--0-- 28[00], 29[11]\n",
      "15\t <--0-- 30[10], 31[01]\n",
      "16\t <--0-- 32[01], 33[10]\n",
      "17\t <--0-- 34[11], 35[00]\n",
      "18\t <--0-- 36[01], 37[10]\n",
      "19\t <--0-- 38[11], 39[00]\n",
      "20\t <--0-- 40[10], 41[01]\n",
      "21\t <--0-- 42[00], 43[11]\n",
      "22\t <--0-- 44[10], 45[01]\n",
      "23\t <--0-- 46[00], 47[11]\n",
      "24\t <--0-- 48[10], 49[01]\n",
      "25\t <--0-- 50[00], 51[11]\n",
      "26\t <--0-- 52[10], 53[01]\n",
      "27\t <--0-- 54[00], 55[11]\n",
      "28\t <--0-- 56[01], 57[10]\n",
      "29\t <--0-- 58[11], 59[00]\n",
      "30\t <--0-- 60[01], 61[10]\n",
      "31\t <--0-- 62[11], 63[00]\n",
      "32\t <--1-- 0[11], 1[00]\n",
      "33\t <--1-- 2[01], 3[10]\n",
      "34\t <--1-- 4[11], 5[00]\n",
      "35\t <--1-- 6[01], 7[10]\n",
      "36\t <--1-- 8[00], 9[11]\n",
      "37\t <--1-- 10[10], 11[01]\n",
      "38\t <--1-- 12[00], 13[11]\n",
      "39\t <--1-- 14[10], 15[01]\n",
      "40\t <--1-- 16[00], 17[11]\n",
      "41\t <--1-- 18[10], 19[01]\n",
      "42\t <--1-- 20[00], 21[11]\n",
      "43\t <--1-- 22[10], 23[01]\n",
      "44\t <--1-- 24[11], 25[00]\n",
      "45\t <--1-- 26[01], 27[10]\n",
      "46\t <--1-- 28[11], 29[00]\n",
      "47\t <--1-- 30[01], 31[10]\n",
      "48\t <--1-- 32[10], 33[01]\n",
      "49\t <--1-- 34[00], 35[11]\n",
      "50\t <--1-- 36[10], 37[01]\n",
      "51\t <--1-- 38[00], 39[11]\n",
      "52\t <--1-- 40[01], 41[10]\n",
      "53\t <--1-- 42[11], 43[00]\n",
      "54\t <--1-- 44[01], 45[10]\n",
      "55\t <--1-- 46[11], 47[00]\n",
      "56\t <--1-- 48[01], 49[10]\n",
      "57\t <--1-- 50[11], 51[00]\n",
      "58\t <--1-- 52[01], 53[10]\n",
      "59\t <--1-- 54[11], 55[00]\n",
      "60\t <--1-- 56[10], 57[01]\n",
      "61\t <--1-- 58[00], 59[11]\n",
      "62\t <--1-- 60[10], 61[01]\n",
      "63\t <--1-- 62[00], 63[11]\n"
     ]
    }
   ],
   "source": [
    "\n",
    "def outp(shr, bit):\n",
    "    out_a = int(bit) ^ int(shr[1]) ^ int(shr[2]) ^ int(shr[4]) ^ int(shr[5])\n",
    "    out_b = int(bit) ^ int(shr[0]) ^ int(shr[1]) ^ int(shr[2]) ^ int(shr[5])\n",
    "    output = str(out_a) + str(out_b)\n",
    "    return output\n",
    "\n",
    "for i in range(64):\n",
    "    parent1 = (i << 1)%64\n",
    "    bit = (i) >> 5\n",
    "    parent2 = (parent1 + 1)%64\n",
    "    \n",
    "    out1 = outp(bin(parent1)[2:].zfill(6), str(bit))\n",
    "    out2 = outp(bin(parent2)[2:].zfill(6), str(bit))\n",
    "    \n",
    "    if out1[0] == '1':\n",
    "        assert out2[0] == '0'\n",
    "    else:\n",
    "        assert out2[0] == '1'\n",
    "        \n",
    "    if out1[1] == '1':\n",
    "        assert out2[1] == '0'\n",
    "    else:\n",
    "        assert out2[1] == '1'\n",
    "#     assert out1[0] == out2[1]\n",
    "    print(f'{i}\\t <--{bit}-- {parent1}[{out1}], {parent2}[{out2}]')\n"
   ]
  },
  {
   "cell_type": "code",
   "execution_count": null,
   "metadata": {},
   "outputs": [],
   "source": []
  }
 ],
 "metadata": {
  "kernelspec": {
   "display_name": "Python 3",
   "language": "python",
   "name": "python3"
  },
  "language_info": {
   "codemirror_mode": {
    "name": "ipython",
    "version": 3
   },
   "file_extension": ".py",
   "mimetype": "text/x-python",
   "name": "python",
   "nbconvert_exporter": "python",
   "pygments_lexer": "ipython3",
   "version": "3.7.2"
  }
 },
 "nbformat": 4,
 "nbformat_minor": 2
}
