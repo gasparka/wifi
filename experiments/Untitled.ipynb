{
 "cells": [
  {
   "cell_type": "code",
   "execution_count": 19,
   "metadata": {},
   "outputs": [
    {
     "name": "stdout",
     "output_type": "stream",
     "text": [
      "The autoreload extension is already loaded. To reload it, use:\n",
      "  %reload_ext autoreload\n"
     ]
    }
   ],
   "source": [
    "import matplotlib\n",
    "matplotlib.use('nbagg')\n",
    "import matplotlib.pyplot as plt\n",
    "from pylab import rcParams\n",
    "# rcParams['figure.figsize'] = 10, 5\n",
    "rcParams['figure.max_open_warning'] = False\n",
    "%load_ext autoreload\n",
    "%autoreload 2\n",
    "import numpy as np\n",
    "import numpy as np\n",
    "from ieee80211phy.transmitter.ofdm_modulation import demap_from_carriers\n",
    "from ieee80211phy.transmitter.subcarrier_modulation_mapping import *\n",
    "from ieee80211phy.conv_coding import *\n",
    "from ieee80211phy.interleaving import *"
   ]
  },
  {
   "cell_type": "code",
   "execution_count": 20,
   "metadata": {},
   "outputs": [
    {
     "name": "stdout",
     "output_type": "stream",
     "text": [
      "80\n"
     ]
    }
   ],
   "source": [
    "expect_bits = '101100010011000000000000'\n",
    "signal_field = [(0.109 + 0j), (0.033 - 0.044j), (-0.002 - 0.038j), (-0.081 + 0.084j), (0.007 - 0.1j),\n",
    "                       (-0.001 - 0.113j), (-0.021 - 0.005j), (0.136 - 0.105j), (0.098 - 0.044j), (0.011 - 0.002j),\n",
    "                       (-0.033 + 0.044j), (-0.06 + 0.124j), (0.01 + 0.097j), -0.008j, (0.018 - 0.083j),\n",
    "                       (-0.069 + 0.027j), (-0.219 + 0j), (-0.069 - 0.027j), (0.018 + 0.083j), 0.008j,\n",
    "                       (0.01 - 0.097j), (-0.06 - 0.124j), (-0.033 - 0.044j), (0.011 + 0.002j), (0.098 + 0.044j),\n",
    "                       (0.136 + 0.105j), (-0.021 + 0.005j), (-0.001 + 0.113j), (0.007 + 0.1j), (-0.081 - 0.084j),\n",
    "                       (-0.002 + 0.038j), (0.033 + 0.044j), (0.062 + 0j), (0.057 + 0.052j), (0.016 + 0.174j),\n",
    "                       (0.035 + 0.116j), (-0.051 - 0.202j), (0.011 + 0.036j), (0.089 + 0.209j), (-0.049 - 0.008j),\n",
    "                       (-0.035 + 0.044j), (0.017 - 0.059j), (0.053 - 0.017j), (0.099 + 0.1j), (0.034 - 0.148j),\n",
    "                       (-0.003 - 0.094j), (-0.12 + 0.042j), (-0.136 - 0.07j), (-0.031 + 0j), (-0.136 + 0.07j),\n",
    "                       (-0.12 - 0.042j), (-0.003 + 0.094j), (0.034 + 0.148j), (0.099 - 0.1j), (0.053 + 0.017j),\n",
    "                       (0.017 + 0.059j), (-0.035 - 0.044j), (-0.049 + 0.008j), (0.089 - 0.209j), (0.011 - 0.036j),\n",
    "                       (-0.051 + 0.202j), (0.035 - 0.116j), (0.016 - 0.174j), (0.057 - 0.052j), (0.062 + 0j),\n",
    "                       (0.033 - 0.044j), (-0.002 - 0.038j), (-0.081 + 0.084j), (0.007 - 0.1j), (-0.001 - 0.113j),\n",
    "                       (-0.021 - 0.005j), (0.136 - 0.105j), (0.098 - 0.044j), (0.011 - 0.002j), (-0.033 + 0.044j),\n",
    "                       (-0.06 + 0.124j), (0.01 + 0.097j), -0.008j, (0.018 - 0.083j), (-0.069 + 0.027j)]\n",
    "print(len(signal_field))"
   ]
  },
  {
   "cell_type": "code",
   "execution_count": 21,
   "metadata": {},
   "outputs": [
    {
     "name": "stderr",
     "output_type": "stream",
     "text": [
      "INFO:ieee80211phy.conv_coding:Decoded 24 bits, score=0, rate=1/2\n"
     ]
    },
    {
     "name": "stdout",
     "output_type": "stream",
     "text": [
      "100101001101000000010100100000110010010010010100\n",
      "101100010011000000000000\n"
     ]
    }
   ],
   "source": [
    "start = 16\n",
    "symbols = np.fft.fft(signal_field[start:start + 64])\n",
    "symbols = demap_from_carriers(symbols)\n",
    "bits_coded = ''.join(demodulate_bpsk(symbol) for symbol in symbols)\n",
    "bits_deinterleave = interleave(bits_coded, 48, 1, undo=True)\n",
    "bits = conv_decode(bits_deinterleave)\n",
    "print(bits_coded)\n",
    "print(bits)"
   ]
  },
  {
   "cell_type": "code",
   "execution_count": null,
   "metadata": {},
   "outputs": [],
   "source": []
  },
  {
   "cell_type": "code",
   "execution_count": null,
   "metadata": {},
   "outputs": [],
   "source": []
  }
 ],
 "metadata": {
  "kernelspec": {
   "display_name": "Python 3",
   "language": "python",
   "name": "python3"
  },
  "language_info": {
   "codemirror_mode": {
    "name": "ipython",
    "version": 3
   },
   "file_extension": ".py",
   "mimetype": "text/x-python",
   "name": "python",
   "nbconvert_exporter": "python",
   "pygments_lexer": "ipython3",
   "version": "3.7.1"
  }
 },
 "nbformat": 4,
 "nbformat_minor": 2
}
