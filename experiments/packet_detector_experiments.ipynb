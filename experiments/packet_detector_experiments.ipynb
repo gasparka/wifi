{
 "cells": [
  {
   "cell_type": "code",
   "execution_count": 1,
   "metadata": {},
   "outputs": [],
   "source": [
    "%matplotlib notebook\n",
    "import matplotlib.pyplot as plt\n",
    "import numpy as np\n",
    "from scipy import signal\n",
    "%load_ext autoreload\n",
    "%autoreload 2\n",
    "import scipy \n",
    "\n",
    "import warnings\n",
    "warnings.filterwarnings('ignore') # yolo!"
   ]
  },
  {
   "cell_type": "code",
   "execution_count": 2,
   "metadata": {},
   "outputs": [],
   "source": [
    "# pad_len = 100000\n",
    "# noise = 0.00001 *  (0.70711 * np.random.randn(pad_len) + 0.70711 * np.random.randn(pad_len)*1j)\n",
    "\n",
    "# to_tx = np.concatenate([tx, noise])\n",
    "\n",
    "# def save_complex64_file(file: str, iq: np.array):\n",
    "#     out = iq.astype(sp.complex64)\n",
    "#     out.tofile(file)\n",
    "#     return\n",
    "# save_complex64_file('tx.raw', to_tx)\n",
    "# plt.figure(figsize=(9.75,5))\n",
    "# plt.plot(to_tx)\n",
    "# plt.tight_layout()\n",
    "# plt.grid()"
   ]
  },
  {
   "cell_type": "markdown",
   "metadata": {},
   "source": [
    "# TX packet"
   ]
  },
  {
   "cell_type": "code",
   "execution_count": 3,
   "metadata": {},
   "outputs": [
    {
     "ename": "NameError",
     "evalue": "name 'tx_generator' is not defined",
     "output_type": "error",
     "traceback": [
      "\u001b[0;31m---------------------------------------------------------------------------\u001b[0m",
      "\u001b[0;31mNameError\u001b[0m                                 Traceback (most recent call last)",
      "\u001b[0;32m<ipython-input-3-f23e60ef2cd0>\u001b[0m in \u001b[0;36m<module>\u001b[0;34m\u001b[0m\n\u001b[1;32m      1\u001b[0m \u001b[0mnp\u001b[0m\u001b[0;34m.\u001b[0m\u001b[0mrandom\u001b[0m\u001b[0;34m.\u001b[0m\u001b[0mseed\u001b[0m\u001b[0;34m(\u001b[0m\u001b[0;36m0\u001b[0m\u001b[0;34m)\u001b[0m\u001b[0;34m\u001b[0m\u001b[0;34m\u001b[0m\u001b[0m\n\u001b[1;32m      2\u001b[0m \u001b[0mdata\u001b[0m \u001b[0;34m=\u001b[0m \u001b[0;34m''\u001b[0m\u001b[0;34m.\u001b[0m\u001b[0mjoin\u001b[0m\u001b[0;34m(\u001b[0m\u001b[0;34m'1'\u001b[0m \u001b[0;32mif\u001b[0m \u001b[0mx\u001b[0m \u001b[0;32melse\u001b[0m \u001b[0;34m'0'\u001b[0m \u001b[0;32mfor\u001b[0m \u001b[0mx\u001b[0m \u001b[0;32min\u001b[0m \u001b[0mnp\u001b[0m\u001b[0;34m.\u001b[0m\u001b[0mrandom\u001b[0m\u001b[0;34m.\u001b[0m\u001b[0mrandint\u001b[0m\u001b[0;34m(\u001b[0m\u001b[0;36m2\u001b[0m\u001b[0;34m,\u001b[0m \u001b[0msize\u001b[0m\u001b[0;34m=\u001b[0m\u001b[0;36m20906\u001b[0m\u001b[0;34m)\u001b[0m\u001b[0;34m)\u001b[0m\u001b[0;34m\u001b[0m\u001b[0;34m\u001b[0m\u001b[0m\n\u001b[0;32m----> 3\u001b[0;31m \u001b[0mtx\u001b[0m\u001b[0;34m,\u001b[0m \u001b[0mmaps\u001b[0m\u001b[0;34m,\u001b[0m \u001b[0mofdm_syms\u001b[0m \u001b[0;34m=\u001b[0m \u001b[0mtx_generator\u001b[0m\u001b[0;34m(\u001b[0m\u001b[0mdata\u001b[0m\u001b[0;34m,\u001b[0m \u001b[0mdata_rate\u001b[0m\u001b[0;34m=\u001b[0m\u001b[0;36m36\u001b[0m\u001b[0;34m)\u001b[0m\u001b[0;34m\u001b[0m\u001b[0;34m\u001b[0m\u001b[0m\n\u001b[0m\u001b[1;32m      4\u001b[0m \u001b[0;34m\u001b[0m\u001b[0m\n\u001b[1;32m      5\u001b[0m \u001b[0mpad_len\u001b[0m \u001b[0;34m=\u001b[0m \u001b[0;36m128\u001b[0m\u001b[0;34m\u001b[0m\u001b[0;34m\u001b[0m\u001b[0m\n",
      "\u001b[0;31mNameError\u001b[0m: name 'tx_generator' is not defined"
     ]
    }
   ],
   "source": [
    "np.random.seed(0)\n",
    "data = ''.join('1' if x else '0' for x in np.random.randint(2, size=20906))\n",
    "tx, maps, ofdm_syms = tx_generator(data, data_rate=36)\n",
    "\n",
    "pad_len = 128\n",
    "noise = 0.00001 *  (0.70711 * np.random.randn(pad_len) + 0.70711 * np.random.randn(pad_len)*1j)\n",
    "tx = np.concatenate([noise, tx])\n",
    "\n",
    "\n",
    "\n",
    "plt.figure(figsize=(9.75,5))\n",
    "plt.plot(tx)\n",
    "plt.tight_layout()\n",
    "plt.grid()\n",
    "\n",
    "\n",
    "plt.figure(figsize=(9.75,5))\n",
    "plt.scatter(maps.real, maps.imag)\n",
    "plt.tight_layout()\n",
    "plt.grid()\n",
    "print(maps.shape)"
   ]
  },
  {
   "cell_type": "markdown",
   "metadata": {},
   "source": [
    "# Channel"
   ]
  },
  {
   "cell_type": "code",
   "execution_count": null,
   "metadata": {},
   "outputs": [],
   "source": [
    "def show_freqz(taps):\n",
    "    import matplotlib.pyplot as plt\n",
    "    from scipy import signal\n",
    "    w, h = signal.freqz(taps)\n",
    "    fig, ax1 = plt.subplots(1, 1)\n",
    "    plt.title('Digital filter frequency response')\n",
    "    ax1.plot(w / np.pi, 20 * np.log10(abs(h)), 'b')\n",
    "    ax1.set_ylabel('Amplitude [dB]', color='b')\n",
    "    ax1.set_xlabel('Frequency')\n",
    "    plt.grid()\n",
    "    ax2 = ax1.twinx()\n",
    "    angles = np.unwrap(np.angle(h))\n",
    "    ax2.plot(w / np.pi, angles, 'g')\n",
    "    ax2.set_ylabel('Angle (radians)', color='g')\n",
    "    ax2.axis('tight')\n",
    "    plt.tight_layout()\n",
    "    plt.show()\n",
    "N = 128  # Filter order\n",
    "bands = np.array([0., .22, .28, .5]) # Filter symetric around 0.25 (where .5 is pi or Fs/2)\n",
    "halfband_taps =  signal.remez(N+1, bands, [1,0], [1,1])\n",
    "halfband_taps[abs(halfband_taps) <= 1e-4] = 0.\n",
    "show_freqz(halfband_taps)"
   ]
  },
  {
   "cell_type": "code",
   "execution_count": null,
   "metadata": {},
   "outputs": [],
   "source": [
    "def channel(tx, snr, freq_offset):\n",
    "    up = scipy.signal.resample_poly(tx, 2, 1, window=halfband_taps)\n",
    "\n",
    "    freq_offset = mixer(up, freq_offset, 40e6)\n",
    "    rx = awgn(freq_offset, snr)\n",
    "    rx = scipy.signal.resample_poly(rx, 1, 2, window=halfband_taps)\n",
    "    return rx\n",
    "# # rx = rx\n",
    "\n",
    "# ss = np.exp\n",
    "\n",
    "# plt.figure(figsize=(9.75,5))\n",
    "# plt.plot(rx)\n",
    "# plt.plot(tx)\n",
    "# plt.tight_layout()\n",
    "# plt.grid()"
   ]
  },
  {
   "cell_type": "markdown",
   "metadata": {},
   "source": [
    "# Packet detection"
   ]
  },
  {
   "cell_type": "code",
   "execution_count": null,
   "metadata": {},
   "outputs": [],
   "source": [
    "from ipywidgets import interact, interactive, fixed, interact_manual\n",
    "import ipywidgets as widgets"
   ]
  },
  {
   "cell_type": "code",
   "execution_count": null,
   "metadata": {
    "scrolled": false
   },
   "outputs": [],
   "source": [
    "@interact(snr=(-6, 60, 1), freq_offset=100e3, continuous_update=False)\n",
    "def play(snr, freq_offset):\n",
    "    rx = channel(tx, snr, freq_offset)\n",
    "    start_of_long_training, ratio = packet_detector(rx, debug=False)\n",
    "    print(start_of_long_training)"
   ]
  },
  {
   "cell_type": "code",
   "execution_count": null,
   "metadata": {},
   "outputs": [],
   "source": [
    "plt.figure(figsize=(9.75, 5))\n",
    "\n",
    "for snr in range(3, 60):\n",
    "    rx = channel(tx, snr, 1e3)\n",
    "    start_of_long_training, ratio = packet_detector(rx, debug=False)\n",
    "    plt.plot(ratio)\n",
    "#     plt.plot(np.diff(ratio))\n",
    "    \n",
    "plt.legend()\n",
    "plt.xlim([0, 500])\n",
    "plt.tight_layout()\n",
    "plt.grid()"
   ]
  },
  {
   "cell_type": "markdown",
   "metadata": {},
   "source": [
    "# Freq offset detection"
   ]
  },
  {
   "cell_type": "code",
   "execution_count": null,
   "metadata": {},
   "outputs": [],
   "source": [
    "fixed_rx, error_coarse = fix_frequency_offset_coarse(rx, start_of_long_training, debug=True)\n",
    "fixed_rx, error_fine = fix_frequency_offset_fine(fixed_rx, start_of_long_training, debug=True)\n",
    "print(f'Total error corrected: {error_coarse + error_fine}')"
   ]
  },
  {
   "cell_type": "markdown",
   "metadata": {},
   "source": [
    "# Timing"
   ]
  },
  {
   "cell_type": "code",
   "execution_count": null,
   "metadata": {},
   "outputs": [],
   "source": [
    "timing_acquisition(fixed_rx, start_of_long_training, True)"
   ]
  },
  {
   "cell_type": "markdown",
   "metadata": {},
   "source": [
    "# Equalizer"
   ]
  },
  {
   "cell_type": "code",
   "execution_count": null,
   "metadata": {},
   "outputs": [],
   "source": [
    "sample_advance = 0\n",
    "from ieee80211phy.transmitter.preamble import *\n",
    "ideal_long = long_train_symbol()\n",
    "first_long_train = rx[192 - sample_advance:192+64 -sample_advance]\n",
    "second_long_train = rx[192+64-sample_advance:192+64+64-sample_advance]\n",
    "avg_long_train = (first_long_train + second_long_train) / 2\n",
    "freq = np.fft.fft(avg_long_train)*(1/64)\n",
    "\n",
    "print(np.fft.fft(ideal_long))\n",
    "# ideal_freq  [0, 0, 0, 0, 0, 0, 1, 1, -1, -1, 1, 1, -1, 1, -1, 1, 1, 1, 1, 1, 1, -1, -1, 1, 1, -1, 1, -1, 1, 1, 1,\n",
    "#                   1,\n",
    "#                   0,\n",
    "#                   1, -1, -1, 1, 1, -1, 1, -1, 1, -1, -1, -1, -1, -1, 1, 1, -1, -1, 1, -1, 1, -1, 1, 1, 1, 1, 0, 0, 0, 0,\n",
    "#                   0]\n",
    "\n",
    "channel_estimate = freq / (np.fft.fft(ideal_long)*(1/64))\n",
    "equalizer_coefs = 1/channel_estimate\n",
    "\n",
    "\n",
    "\n",
    "plt.figure(figsize=(9.75,5))\n",
    "plt.ylim([-2, 2])\n",
    "plt.plot(np.fft.fftshift(20*np.log10(np.abs(equalizer_coefs))))\n",
    "# plt.plot(equalizer_coefs)\n",
    "# plt.plot(first_long_train)\n",
    "# plt.plot(second_long_train)\n",
    "# plt.plot(avg_long_train)\n",
    "plt.tight_layout()\n",
    "plt.grid()"
   ]
  },
  {
   "cell_type": "markdown",
   "metadata": {},
   "source": [
    "# RX"
   ]
  },
  {
   "cell_type": "code",
   "execution_count": null,
   "metadata": {},
   "outputs": [],
   "source": [
    "from ieee80211phy.transmitter.ofdm_modulation import *\n",
    "\n",
    "no_head = rx[320-sample_advance:-1 - sample_advance]\n",
    "symbols = np.reshape(no_head, (-1, 80))\n",
    "freq = [np.fft.fft(x[16:]) for x in symbols]\n",
    "\n",
    "equalized = freq\n",
    "# print(equalizer_coefs)\n",
    "# equalized = [x * equalizer_coefs for x in freq]\n",
    "symbols = np.array([demap_from_carriers(x) for x in equalized])\n",
    "\n",
    "symbols_flat = symbols.flatten()\n"
   ]
  },
  {
   "cell_type": "code",
   "execution_count": null,
   "metadata": {},
   "outputs": [],
   "source": [
    "from ieee80211phy.util import *\n",
    "plot_rx(symbols, ofdm_syms)"
   ]
  },
  {
   "cell_type": "code",
   "execution_count": null,
   "metadata": {},
   "outputs": [],
   "source": [
    "plt.figure(figsize=(9.75,5))\n",
    "plt.plot(symbols)\n",
    "plt.plot(maps)\n",
    "plt.tight_layout()\n",
    "plt.grid()"
   ]
  },
  {
   "cell_type": "code",
   "execution_count": null,
   "metadata": {},
   "outputs": [],
   "source": [
    "from ieee80211phy.transmitter.subcarrier_modulation_mapping import *\n",
    "# symbols = np.array([QAM16_LUT_NORM[i>>2] + QAM16_LUT_NORM[i&3] * 1j for i in range(16)])\n",
    "symbols = np.array([QAM64_LUT_NORM[i>>3] + QAM64_LUT_NORM[i&7] * 1j for i in range(64)])\n",
    "print(symbols)\n",
    "pwr = [power(x) for x in symbols]\n",
    "print(pwr, np.mean(pwr))\n",
    "\n",
    "plt.figure(figsize=(9.75,5))\n",
    "plt.scatter(symbols.real, symbols.imag)\n",
    "plt.tight_layout()\n",
    "tick_base = 1 / np.sqrt(10)\n",
    "plt.xticks([-4*tick_base, -2*tick_base, 0, tick_base*2, tick_base*4])\n",
    "plt.yticks([-4*tick_base, -2*tick_base, 0, tick_base*2, tick_base*4])\n",
    "plt.grid()"
   ]
  },
  {
   "cell_type": "code",
   "execution_count": null,
   "metadata": {},
   "outputs": [],
   "source": []
  }
 ],
 "metadata": {
  "kernelspec": {
   "display_name": "Python 3",
   "language": "python",
   "name": "python3"
  },
  "language_info": {
   "codemirror_mode": {
    "name": "ipython",
    "version": 3
   },
   "file_extension": ".py",
   "mimetype": "text/x-python",
   "name": "python",
   "nbconvert_exporter": "python",
   "pygments_lexer": "ipython3",
   "version": "3.7.2"
  }
 },
 "nbformat": 4,
 "nbformat_minor": 2
}
