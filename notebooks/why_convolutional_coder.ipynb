{
 "cells": [
  {
   "cell_type": "code",
   "execution_count": 1,
   "metadata": {},
   "outputs": [
    {
     "data": {
      "application/javascript": [
       "$.getScript('https://kmahelona.github.io/ipython_notebook_goodies/ipython_notebook_toc.js')\n"
      ],
      "text/plain": [
       "<IPython.core.display.Javascript object>"
      ]
     },
     "metadata": {},
     "output_type": "display_data"
    }
   ],
   "source": [
    "%%javascript\n",
    "$.getScript('https://kmahelona.github.io/ipython_notebook_goodies/ipython_notebook_toc.js')"
   ]
  },
  {
   "cell_type": "code",
   "execution_count": 4,
   "metadata": {},
   "outputs": [
    {
     "name": "stdout",
     "output_type": "stream",
     "text": [
      "The autoreload extension is already loaded. To reload it, use:\n",
      "  %reload_ext autoreload\n"
     ]
    },
    {
     "ename": "ModuleNotFoundError",
     "evalue": "No module named 'util'",
     "output_type": "error",
     "traceback": [
      "\u001b[0;31m---------------------------------------------------------------------------\u001b[0m",
      "\u001b[0;31mModuleNotFoundError\u001b[0m                       Traceback (most recent call last)",
      "\u001b[0;32m<ipython-input-4-28c50d5512e2>\u001b[0m in \u001b[0;36m<module>\u001b[0;34m\u001b[0m\n\u001b[1;32m      4\u001b[0m \u001b[0;32mimport\u001b[0m \u001b[0mmatplotlib\u001b[0m\u001b[0;34m.\u001b[0m\u001b[0mpyplot\u001b[0m \u001b[0;32mas\u001b[0m \u001b[0mplt\u001b[0m\u001b[0;34m\u001b[0m\u001b[0;34m\u001b[0m\u001b[0m\n\u001b[1;32m      5\u001b[0m \u001b[0;32mimport\u001b[0m \u001b[0mnumpy\u001b[0m \u001b[0;32mas\u001b[0m \u001b[0mnp\u001b[0m\u001b[0;34m\u001b[0m\u001b[0;34m\u001b[0m\u001b[0m\n\u001b[0;32m----> 6\u001b[0;31m \u001b[0;32mfrom\u001b[0m \u001b[0mwifi\u001b[0m \u001b[0;32mimport\u001b[0m \u001b[0;34m*\u001b[0m\u001b[0;34m\u001b[0m\u001b[0;34m\u001b[0m\u001b[0m\n\u001b[0m\u001b[1;32m      7\u001b[0m \u001b[0;32mimport\u001b[0m \u001b[0minspect\u001b[0m\u001b[0;34m\u001b[0m\u001b[0;34m\u001b[0m\u001b[0m\n\u001b[1;32m      8\u001b[0m \u001b[0;32mimport\u001b[0m \u001b[0mwarnings\u001b[0m\u001b[0;34m\u001b[0m\u001b[0;34m\u001b[0m\u001b[0m\n",
      "\u001b[0;32m~/git/wifi/wifi/__init__.py\u001b[0m in \u001b[0;36m<module>\u001b[0;34m\u001b[0m\n\u001b[1;32m      1\u001b[0m \u001b[0;32mfrom\u001b[0m \u001b[0;34m.\u001b[0m\u001b[0mbitstr\u001b[0m \u001b[0;32mimport\u001b[0m \u001b[0mbits\u001b[0m\u001b[0;34m\u001b[0m\u001b[0;34m\u001b[0m\u001b[0m\n\u001b[0;32m----> 2\u001b[0;31m \u001b[0;32mfrom\u001b[0m \u001b[0;34m.\u001b[0m\u001b[0mtransceiver\u001b[0m \u001b[0;32mimport\u001b[0m \u001b[0mdo\u001b[0m\u001b[0;34m,\u001b[0m \u001b[0mundo\u001b[0m\u001b[0;34m\u001b[0m\u001b[0;34m\u001b[0m\u001b[0m\n\u001b[0m",
      "\u001b[0;32m~/git/wifi/wifi/transceiver.py\u001b[0m in \u001b[0;36m<module>\u001b[0;34m\u001b[0m\n\u001b[1;32m      6\u001b[0m \u001b[0;32mfrom\u001b[0m \u001b[0mhypothesis\u001b[0m\u001b[0;34m.\u001b[0m\u001b[0m_strategies\u001b[0m \u001b[0;32mimport\u001b[0m \u001b[0mcomposite\u001b[0m\u001b[0;34m,\u001b[0m \u001b[0mintegers\u001b[0m\u001b[0;34m,\u001b[0m \u001b[0mbinary\u001b[0m\u001b[0;34m,\u001b[0m \u001b[0msampled_from\u001b[0m\u001b[0;34m\u001b[0m\u001b[0;34m\u001b[0m\u001b[0m\n\u001b[1;32m      7\u001b[0m \u001b[0;34m\u001b[0m\u001b[0m\n\u001b[0;32m----> 8\u001b[0;31m \u001b[0;32mfrom\u001b[0m \u001b[0mwifi\u001b[0m \u001b[0;32mimport\u001b[0m \u001b[0mconvolutional_coder\u001b[0m\u001b[0;34m,\u001b[0m \u001b[0mheader\u001b[0m\u001b[0;34m,\u001b[0m \u001b[0minterleaver\u001b[0m\u001b[0;34m,\u001b[0m \u001b[0mmodulator\u001b[0m\u001b[0;34m,\u001b[0m \u001b[0mscrambler\u001b[0m\u001b[0;34m,\u001b[0m \u001b[0mbits\u001b[0m\u001b[0;34m,\u001b[0m \u001b[0mpuncturer\u001b[0m\u001b[0;34m,\u001b[0m \u001b[0mpreambler\u001b[0m\u001b[0;34m,\u001b[0m\u001b[0;31m \u001b[0m\u001b[0;31m\\\u001b[0m\u001b[0;34m\u001b[0m\u001b[0;34m\u001b[0m\u001b[0m\n\u001b[0m\u001b[1;32m      9\u001b[0m     \u001b[0mpadder\u001b[0m\u001b[0;34m,\u001b[0m \u001b[0msubcarrier_mapping\u001b[0m\u001b[0;34m,\u001b[0m \u001b[0mpilots\u001b[0m\u001b[0;34m,\u001b[0m \u001b[0mto_time_domain\u001b[0m\u001b[0;34m,\u001b[0m \u001b[0mguard_interval\u001b[0m\u001b[0;34m,\u001b[0m \u001b[0mmerger\u001b[0m\u001b[0;34m,\u001b[0m \u001b[0mchannel_impairments\u001b[0m\u001b[0;34m,\u001b[0m \u001b[0mbitstr\u001b[0m\u001b[0;34m\u001b[0m\u001b[0;34m\u001b[0m\u001b[0m\n\u001b[1;32m     10\u001b[0m \u001b[0;32mfrom\u001b[0m \u001b[0mwifi\u001b[0m\u001b[0;34m.\u001b[0m\u001b[0mconfig\u001b[0m \u001b[0;32mimport\u001b[0m \u001b[0mConfig\u001b[0m\u001b[0;34m\u001b[0m\u001b[0;34m\u001b[0m\u001b[0m\n",
      "\u001b[0;32m~/git/wifi/wifi/convolutional_coder.py\u001b[0m in \u001b[0;36m<module>\u001b[0;34m\u001b[0m\n\u001b[1;32m     22\u001b[0m \u001b[0;32mfrom\u001b[0m \u001b[0mnumba\u001b[0m \u001b[0;32mimport\u001b[0m \u001b[0mnjit\u001b[0m\u001b[0;34m\u001b[0m\u001b[0;34m\u001b[0m\u001b[0m\n\u001b[1;32m     23\u001b[0m \u001b[0;34m\u001b[0m\u001b[0m\n\u001b[0;32m---> 24\u001b[0;31m \u001b[0;32mfrom\u001b[0m \u001b[0mutil\u001b[0m\u001b[0;34m.\u001b[0m\u001b[0mutil\u001b[0m \u001b[0;32mimport\u001b[0m \u001b[0mxor_reduce_poly\u001b[0m\u001b[0;34m,\u001b[0m \u001b[0mis_divisible\u001b[0m\u001b[0;34m\u001b[0m\u001b[0;34m\u001b[0m\u001b[0m\n\u001b[0m\u001b[1;32m     25\u001b[0m \u001b[0;32mfrom\u001b[0m \u001b[0mwifi\u001b[0m \u001b[0;32mimport\u001b[0m \u001b[0mpuncturer\u001b[0m\u001b[0;34m,\u001b[0m \u001b[0mbits\u001b[0m\u001b[0;34m\u001b[0m\u001b[0;34m\u001b[0m\u001b[0m\n\u001b[1;32m     26\u001b[0m \u001b[0;34m\u001b[0m\u001b[0m\n",
      "\u001b[0;31mModuleNotFoundError\u001b[0m: No module named 'util'"
     ]
    }
   ],
   "source": [
    "%matplotlib notebook\n",
    "%load_ext autoreload\n",
    "%autoreload 2\n",
    "import matplotlib.pyplot as plt\n",
    "import numpy as np\n",
    "from wifi import *\n",
    "import inspect\n",
    "import warnings\n",
    "from unittest.mock import patch\n",
    "warnings.filterwarnings('ignore') # yolo!\n",
    "\n",
    "# STFU matplotlib\n",
    "import logging\n",
    "mpl_logger = logging.getLogger('matplotlib')\n",
    "mpl_logger.setLevel(logging.WARNING) "
   ]
  },
  {
   "cell_type": "markdown",
   "metadata": {},
   "source": [
    "<h1 id=\"tocheading\">Table of Contents</h1>\n",
    "<div id=\"toc\"></div>"
   ]
  },
  {
   "cell_type": "markdown",
   "metadata": {},
   "source": [
    "# Info"
   ]
  },
  {
   "cell_type": "code",
   "execution_count": null,
   "metadata": {},
   "outputs": [],
   "source": [
    "print(inspect.getdoc(convolutional_coder))"
   ]
  },
  {
   "cell_type": "markdown",
   "metadata": {},
   "source": [
    "# Influence to Packet error rate"
   ]
  },
  {
   "cell_type": "code",
   "execution_count": null,
   "metadata": {},
   "outputs": [],
   "source": [
    "from loguru import logger\n",
    "logger.disable('wifi')\n",
    "\n",
    "data = b'\\n17. Orthogonal frequency division multiplexing (OFDM) PHY specification\\n17.1 Introduction\\n17.1.1 General\\nThis clause specifies the PHY entity for an orthogonal frequency division multiplexing (OFDM) system.\\nThe OFDM system provides a WLAN with data payload communication capabilities of 6, 9, 12, 18, 24, 36,\\n48, and 54 Mb/s. The support of transmitting and receiving at data rates of 6, 12, and 24 Mb/s is mandatory.\\nThe system uses 52 subcarriers that are modulated using binary or quadrature phase shift keying (BPSK or\\nQPSK) or using 16- or 64-quadrature amplitude modulation (16-QAM or 64-QAM). Forward error\\ncorrection coding (convolutional coding) is used with a coding rate of 1/2, 2/3, or 3/4.\\nThe OFDM system also provides a \"half-clocked\" operation using 10 MHz channel spacings with data\\ncommunications capabilities of 3, 4.5, 6, 9, 12, 18, 24, and 27 Mb/s. The support of transmitting and\\nreceiving at data rates of 3, 6, and 12 Mb/s is mandatory when using 10 MHz channel spacing. The half-\\nclocked operation doubles symbol times and clear channel assessment (CCA) times when using 10 MHz\\nchannel spacing. The regulatory requirements and information regarding use of this OFDM PHY are in\\nAnnex D and Annex E.\\nThe OFDM system also provides a \"quarter-clocked\" operation using 5 MHz channel spacing with data\\ncommunication capabilities of 1.5, 2.25, 3, 4.5, 6, 9, 12, and 13.5 Mb/s. The support of transmitting and\\nreceiving at data rates of 1.5, 3, and 6 Mb/s is mandatory when using 5 MHz channel spacing. The quarter-\\nclocked operation quadruples symbol times and CCA times when using 5 MHz channel spacing. The\\nregulatory requirements and information regarding use of this OFDM PHY are in Annex D and Annex E.\\n17.1.2 Scope\\nSubclause 17.1 describes the PHY services provided to the IEEE 802.11 WLAN MAC by the OFDM PHY.\\nThe OFDM PHY consists of the following protocol functions:\\na) A function that defines a method of mapping the IEEE 802.11 PSDUs into a framing format suitable\\nfor sending and receiving user data and management information between two or more STAs.\\nb) A function that defines the characteristics and method of transmitting and receiving data through a\\nWM between two or more STAs, each using the OFDM system.\\n17.1.3 OFDM PHY functions\\n17.1.3.1 General\\nThe OFDM PHY architecture is depicted in the reference model shown in Figure 4-19 (in 4.9). The OFDM\\nPHY contains two functional entities: the PHY function and the layer management function. Each of these\\nfunctions is described in detail in 17.3 and 17.4.\\nThe OFDM PHY service is provided to the MAC through the PHY service primitives described in Clause 8.\\n17.1.3.2 PLME\\nThe PLME performs management of the local PHY functions in conjunction with the MLME.\\n2277\\nCopyright  2016 IEEE. All rights reserved.\\nAuthorized licensed use limited to: Vadis Slaav. Downloaded on September 30,2018 at 13:57:05 UTC from IEEE Xplore. Restrictions apply.IEEE Std 802.11-2016\\nIEEE Standard for Information Technology-Local and Metropolitan Area Networks-Specific Requirements\\nPart 11: Wireless LAN MAC and PHY Specifications\\n17.1.3.3 Service specification method\\nThe models represented by figures and state diagrams are intended to be illustrations of the functions\\nprovided. It is important to distinguish between a model and a real implementation. The models are\\noptimized for simplicity and clarity of presentation, but do not necessarily reflect any particular\\nimplementation.\\nThe service of a layer or sublayer is the set of capabilities that it offers to a user in the next higher layer (or\\nsublayer). Abstract services are specified here by describing the service primitives and parameters that\\ncharacterize each service. This definition is independent of any particular implementation.\\n17.2 OFDM PHY specific service parameter list\\n17.2.1 Introduction\\nThe architecture of the IEEE 802.11 MAC is intended to be PHY independent. Some PHY implementations\\nrequire medium management state machines running in the MAC sublayer in order to meet certain PHY\\nrequirements. These PHY-dependent MAC state machines reside in a '\n",
    "data = data[:1024]\n",
    "data = bitstr.from_bytes(data)\n",
    "\n",
    "data_rate = 24 # this rate has no puncturing\n",
    "snr_range = range(12,25)\n",
    "ber_normal = packet_error_rate.do(data, data_rate, snr_range)\n",
    "with patch('wifi.convolutional_coder.do', lambda x: x + x):\n",
    "    with patch('wifi.convolutional_coder.undo', lambda x: x[:len(x)//2]):\n",
    "        ber_no_scrambler = packet_error_rate.do(data, data_rate, snr_range)\n",
    "        \n",
    "plt.figure(figsize=(9.75, 5))\n",
    "plt.plot(snr_range, ber_normal.values(), label='coded')\n",
    "plt.plot(snr_range, ber_no_scrambler.values(), label='not coded')\n",
    "plt.xticks(snr_range)\n",
    "plt.xlabel('SNR (dB)')\n",
    "plt.ylabel('Packet error rate (%)')\n",
    "plt.legend()\n",
    "plt.grid(True)\n",
    "plt.tight_layout()\n",
    "plt.show()"
   ]
  },
  {
   "cell_type": "markdown",
   "metadata": {},
   "source": [
    "# State machine graph"
   ]
  },
  {
   "cell_type": "code",
   "execution_count": null,
   "metadata": {},
   "outputs": [],
   "source": [
    "import pygraphviz as pgv\n",
    "BUTTERFLY_LUT = [(0, 0, 1, 3), (2, 2, 3, 1), (4, 0, 5, 3), (6, 2, 7, 1),\n",
    "                     (8, 3, 9, 0), (10, 1, 11, 2), (12, 3, 13, 0), (14, 1, 15, 2),\n",
    "                     (16, 3, 17, 0), (18, 1, 19, 2), (20, 3, 21, 0), (22, 1, 23, 2),\n",
    "                     (24, 0, 25, 3), (26, 2, 27, 1), (28, 0, 29, 3), (30, 2, 31, 1),\n",
    "                     (32, 1, 33, 2), (34, 3, 35, 0), (36, 1, 37, 2), (38, 3, 39, 0),\n",
    "                     (40, 2, 41, 1), (42, 0, 43, 3), (44, 2, 45, 1), (46, 0, 47, 3),\n",
    "                     (48, 2, 49, 1), (50, 0, 51, 3), (52, 2, 53, 1), (54, 0, 55, 3),\n",
    "                     (56, 1, 57, 2), (58, 3, 59, 0), (60, 1, 61, 2), (62, 3, 63, 0),\n",
    "                     (0, 3, 1, 0), (2, 1, 3, 2), (4, 3, 5, 0), (6, 1, 7, 2),\n",
    "                     (8, 0, 9, 3), (10, 2, 11, 1), (12, 0, 13, 3), (14, 2, 15, 1),\n",
    "                     (16, 0, 17, 3), (18, 2, 19, 1), (20, 0, 21, 3), (22, 2, 23, 1),\n",
    "                     (24, 3, 25, 0), (26, 1, 27, 2), (28, 3, 29, 0), (30, 1, 31, 2),\n",
    "                     (32, 2, 33, 1), (34, 0, 35, 3), (36, 2, 37, 1), (38, 0, 39, 3),\n",
    "                     (40, 1, 41, 2), (42, 3, 43, 0), (44, 1, 45, 2), (46, 3, 47, 0),\n",
    "                     (48, 1, 49, 2), (50, 3, 51, 0), (52, 1, 53, 2), (54, 3, 55, 0),\n",
    "                     (56, 2, 57, 1), (58, 0, 59, 3), (60, 2, 61, 1), (62, 0, 63, 3)]\n",
    "\n",
    "A=pgv.AGraph(overlap='False', splines='true')\n",
    "for i, x in enumerate(BUTTERFLY_LUT):\n",
    "    A.add_node(i, width='0.1', fontsize='10')\n",
    "    A.add_edge(i, x[0], label=x[1], dir='forward', arrowsize='0.25', fontsize='7')\n",
    "    A.add_edge(i, x[2], label=x[3], dir='forward', arrowsize='0.25', fontsize='7')\n",
    "    A.add_node(i)\n",
    "\n",
    "A.layout() # layout with default (neato)\n",
    "A.draw('simple.png') # draw png\n",
    "print(\"Wrote simple.png\")"
   ]
  }
 ],
 "metadata": {
  "kernelspec": {
   "display_name": "Python 3",
   "language": "python",
   "name": "python3"
  },
  "language_info": {
   "codemirror_mode": {
    "name": "ipython",
    "version": 3
   },
   "file_extension": ".py",
   "mimetype": "text/x-python",
   "name": "python",
   "nbconvert_exporter": "python",
   "pygments_lexer": "ipython3",
   "version": "3.7.2"
  }
 },
 "nbformat": 4,
 "nbformat_minor": 2
}
